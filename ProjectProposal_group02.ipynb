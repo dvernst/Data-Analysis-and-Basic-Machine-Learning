{
 "cells": [
  {
   "cell_type": "markdown",
   "metadata": {},
   "source": [
    "# COGS 108 - Final Project Proposal"
   ]
  },
  {
   "cell_type": "markdown",
   "metadata": {},
   "source": [
    "# Names\n",
    "\n",
    "- Dorine Ernst\n",
    "- Evan Scales\n",
    "- Jie Wang\t\n",
    "- Ramin Tavousi\n",
    "- Wenqiang Hu   \t"
   ]
  },
  {
   "cell_type": "markdown",
   "metadata": {},
   "source": [
    "# Group Members IDs\n",
    "\n",
    "- A16058414\n",
    "- A15596322\n",
    "- A15752710\n",
    "- A15715467\n",
    "- A16170310"
   ]
  },
  {
   "cell_type": "markdown",
   "metadata": {},
   "source": [
    "# Research Question"
   ]
  },
  {
   "cell_type": "markdown",
   "metadata": {},
   "source": [
    "Is there a correlation between the cost of living in California’s major cities and the change of grocery prices when comparing between the times before and during COVID-19?\n"
   ]
  },
  {
   "cell_type": "markdown",
   "metadata": {},
   "source": [
    "## Background and Prior Work"
   ]
  },
  {
   "cell_type": "markdown",
   "metadata": {},
   "source": [
    "Right now the United States is facing uncertainty due to the outbreak of COVID-19 growing at an alarming rate. There are many uncertainties currently such as the dramatic increase of infected people in the United States, the rising unemployment rate, and limited export-import. We know that this situation affects the United States in general, but we will focus our project on California. This is because California has been one of the top three states in the number of cases of COVID-19. \n",
    "\n",
    "Based on a USCA article “Will COVID-19 Threaten Availability and Affordability of our Food?” by Robert Johansson, we know some of the effects that we are facing during this period like: shortages in some commodities, fluctuation of some commodities prices, and increased demand of groceries and other necessities. As the situation becomes unpredictable, our group thinks it is important to know about the current situation since it is the first time we are facing this uncertainty and by having knowledge about this, it will help our community to be ready to face this difficult time. Similarly from an article by USRice titled “USA Rice President & CEO Addresses Domestic Rice Supply Amidst COVID-19”, we know that the shortages are not a supply chain issue but rather an issue with the change of demand. The increase in demand for some grocery products due to the decrease in restaurant activity has left the supply chains of grocery stores fighting to keep up. \n",
    "\n",
    "We will analyze some of the important groceries prices and their correlation to the cost of living  in particular areas to help everyone prepare and act smartly during this uncertain time. We will focus our observation on California's major cities such as: San Diego, Los Angeles, San Francisco, and Riverside. From the prior work, we know that overtime, we are facing shortages for some commodities as well as experiencing price fluctuations for some commodities. So our team believes that because of limitations in importing things from abroad, we will face shortages for some commodities that will lead to inflation of prices and the expenditure over time could lead to higher cost of living.\n",
    "\n",
    "\n",
    "References\n",
    "- 1) Johansson, Robert. “Will COVID-19 Threaten Availability and Affordability of Our Food?” USDA, 16 Apr. 2020, www.usda.gov/media/blog/2020/04/16/will-covid-19-threaten-availability-and-affordability-our-food.\n",
    "\n",
    "\n",
    "- 2) “USA Rice President & CEO Addresses Domestic Rice Supply Amidst COVID-19.” USARice, 17 Mar. 2020, www.usarice.com/news-and-events/publications/usa-rice-daily/article/usa-rice-daily/2020/03/17/usa-rice-president-ceo-addresses-domestic-rice-supply-amidst-covid-19."
   ]
  },
  {
   "cell_type": "markdown",
   "metadata": {},
   "source": [
    "# Hypothesis\n"
   ]
  },
  {
   "cell_type": "markdown",
   "metadata": {},
   "source": [
    "There is a correlation between the cost of living in California’s major cities with the change in grocery prices during COVID-19. Due to the limitation of import policy, it is so hard to get some groceries that we got from abroad into the US that leads to shortage of some commodity. This causes inflation that leads to higher cost of living.\n",
    "\n",
    "Null Hypothesis: The grocery prices have no relationship with the cost of living during COVID-19.\n",
    "\n",
    "Alternative Hypothesis: As the grocery price increased during COVID-19, it leads to higher cost of living in California.\n",
    "\n",
    "We will test this using 5% of significance level."
   ]
  },
  {
   "cell_type": "markdown",
   "metadata": {},
   "source": [
    "# Data"
   ]
  },
  {
   "cell_type": "markdown",
   "metadata": {},
   "source": [
    "We think the ideal dataset to answer this question will be the price of each commodity before and after introduction of COVID-19 in each California’s major cities as well as individuals’ living expenditures before and after the price changes. This data will be collected using government websites and will be stored as csv files. For analysis, we will use the top five commodities to represent people's needs as our variables which are cereal, protein, dairy products, fruit and vegetable, and alcoholic beverages and the data also will be stored as csv files. Moreover, we will focus our observations into four California’s major cities which are San Diego, Los Angeles, San Francisco, and Riverside area."
   ]
  },
  {
   "cell_type": "markdown",
   "metadata": {},
   "source": [
    "# Ethics & Privacy"
   ]
  },
  {
   "cell_type": "markdown",
   "metadata": {},
   "source": [
    "Most of the data that will be used will most likely be found on public government websites, since it is provided by the government to the public, we will have permission to use this data. We believe that most of the data will be available without issues on privacy of individuals since this question will relate more to grocery pricing and average cost of living. Especially, when we see the data itself, all private information has been removed completely. So far we do not think we will have problems in terms of data privacy, however if we begin using personally identifying information we will remove all identifying and private information completely.\n",
    "\n",
    "\n",
    "We might find biases when it comes to measuring the cost of living in certain areas; it may be generalized too much in one direction due the cost of living of one section of a city or county outweighing a portion of the encapsulated population. The cost of living estimates will be averaged out and if possible specified to a more specific location within California. However these estimates could possibly discount areas of lower cost of living and thus possibly lose information about these subgroups. To handle this issue we will have to specify which areas we are more heavily representing in our data. \n"
   ]
  },
  {
   "cell_type": "markdown",
   "metadata": {},
   "source": [
    "# Team Expectations "
   ]
  },
  {
   "cell_type": "markdown",
   "metadata": {},
   "source": [
    "* Each group member actively communicates their progress on the project so that other team members know the status of the project.\n",
    "\n",
    "* Each of the group members should participate in every meeting and contribute to each step of the project.\n",
    "\n",
    "* Each of the group members will contribute equally in terms of finding the data or doing the coding for the project so work will be broken up fairly.\n",
    "\n",
    "* Each of the group members should ask when they meet any difficulties so other group members can help contribute.\n",
    "\n",
    "* Each member should notify the group when they want to leave the meetings.\n",
    "\n",
    "* Each member will be at the online meeting on time and finish their own part of work on time.\n",
    "\n",
    "* Each member should treat everyone in the group with respect and be sensitive to everyone’s needs and concerns.\n",
    "\n",
    "* If anybody feels something toward one of the group members we will discuss directly, so we will not have any misunderstandings and maintain a good relationship with each other.\n"
   ]
  },
  {
   "cell_type": "markdown",
   "metadata": {},
   "source": [
    "# Project Timeline Proposal"
   ]
  },
  {
   "cell_type": "markdown",
   "metadata": {},
   "source": [
    "| Meeting Date  | Meeting Time| Completed Before Meeting  | Discuss at Meeting |\n",
    "|---|---|---|---|\n",
    "| 4/12 |  7 PM | Brainstorm question topics  | Discuss the topics and narrow down to 2 topics | \n",
    "| 4/14  |  8 PM |  Draft Questions | Voted between topics to determine our project question | \n",
    "| 4/21  | 7 PM  | Finalize Question | Draft Proposal |\n",
    "| 4/23  | 7 PM  | Partial completion of proposal | Finalize Proposal |\n",
    "| 4/25  | 7 PM  | Gather Datasets / Research Cost of living in San Francisco, LA, San Diego, and Riverside | Select Useful Datasets and discuss wrangling data and analytical approaches / Assign Roles |\n",
    "| 5/2  | 7 PM  | Import & Wrangle Data | Discuss analysis plan |\n",
    "| 5/9  | 7 PM  | Edit Data Wrangling  | Finalize Data Wrangling/ Introduce and Begin Analysis |\n",
    "| 5/16 | 7 PM  |  Complete Analysis Draft | Discuss and Revise Analysis |\n",
    "| 5/23 | 7 PM  |  Finalize Analysis / Draft Results, conclusion, and discussion (one for each person) | Discuss Results and edit conclusions and results. |\n",
    "| 5/30 | 7 PM  | Finalize Results, conclusion and discussion. | Address any issues that need to be fixed. |\n",
    "| 6/6  | 7 PM  | Fix all the remaining issues and then record any small problems found. | Discuss / Edit full project |\n",
    "| 6/9  | 7 PM  | N/A | Turn in Final Project & Group Project Surveys |\n"
   ]
  },
  {
   "cell_type": "code",
   "execution_count": null,
   "metadata": {},
   "outputs": [],
   "source": []
  }
 ],
 "metadata": {
  "kernelspec": {
   "display_name": "Python 3",
   "language": "python",
   "name": "python3"
  },
  "language_info": {
   "codemirror_mode": {
    "name": "ipython",
    "version": 3
   },
   "file_extension": ".py",
   "mimetype": "text/x-python",
   "name": "python",
   "nbconvert_exporter": "python",
   "pygments_lexer": "ipython3",
   "version": "3.6.7"
  }
 },
 "nbformat": 4,
 "nbformat_minor": 2
}
