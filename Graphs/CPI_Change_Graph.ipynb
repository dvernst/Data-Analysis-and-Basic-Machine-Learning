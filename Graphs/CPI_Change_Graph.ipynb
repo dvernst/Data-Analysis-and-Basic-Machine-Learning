{
 "cells": [
  {
   "cell_type": "code",
   "execution_count": 1,
   "metadata": {},
   "outputs": [],
   "source": [
    "import pandas as pd\n",
    "import numpy as np\n",
    "import matplotlib.pyplot as plt\n",
    "import seaborn as sns"
   ]
  },
  {
   "cell_type": "code",
   "execution_count": 2,
   "metadata": {},
   "outputs": [],
   "source": [
    "df1 = pd.read_csv('../CPI_Clean/LA_CPI_DEC-APR20.csv')\n",
    "df2 = pd.read_csv('../CPI_Clean/RS_CPI_SEP-MAR20.csv')\n",
    "df3 = pd.read_csv('../CPI_Clean/SD_CPI_SEP-MAR20.csv')\n",
    "df4 = pd.read_csv('../CPI_Clean/SF_CPI_OCT-APR20.csv')"
   ]
  },
  {
   "cell_type": "code",
   "execution_count": 3,
   "metadata": {
    "scrolled": true
   },
   "outputs": [],
   "source": [
    "lacpi = df1.loc[:,['Item and Group', 'Inflation Change JAN->MAR']]\n",
    "sfcpi = df4.loc[:,['Item and Group', 'Inflation Change FEB->APR']]\n",
    "sdcpi = df3.loc[:,['Item and Group', 'Inflation Change JAN->MAR']]\n",
    "rscpi = df2.loc[:,['Item and Group', 'Inflation Change JAN->MAR']]\n",
    "sfcpi.columns = ['Item and Group', 'Inflation Change JAN->MAR']"
   ]
  },
  {
   "cell_type": "code",
   "execution_count": 8,
   "metadata": {},
   "outputs": [
    {
     "data": {
      "text/html": [
       "<div>\n",
       "<style scoped>\n",
       "    .dataframe tbody tr th:only-of-type {\n",
       "        vertical-align: middle;\n",
       "    }\n",
       "\n",
       "    .dataframe tbody tr th {\n",
       "        vertical-align: top;\n",
       "    }\n",
       "\n",
       "    .dataframe thead th {\n",
       "        text-align: right;\n",
       "    }\n",
       "</style>\n",
       "<table border=\"1\" class=\"dataframe\">\n",
       "  <thead>\n",
       "    <tr style=\"text-align: right;\">\n",
       "      <th></th>\n",
       "      <th>Item and Group</th>\n",
       "      <th>Inflation Change JAN-&gt;MAR</th>\n",
       "    </tr>\n",
       "  </thead>\n",
       "  <tbody>\n",
       "    <tr>\n",
       "      <th>2</th>\n",
       "      <td>Cereals and bakery products</td>\n",
       "      <td>-0.728135</td>\n",
       "    </tr>\n",
       "    <tr>\n",
       "      <th>3</th>\n",
       "      <td>Meats, poultry, fish, and eggs</td>\n",
       "      <td>0.171915</td>\n",
       "    </tr>\n",
       "    <tr>\n",
       "      <th>4</th>\n",
       "      <td>Dairy and related products</td>\n",
       "      <td>-2.281617</td>\n",
       "    </tr>\n",
       "    <tr>\n",
       "      <th>5</th>\n",
       "      <td>Fruits and vegetables</td>\n",
       "      <td>0.710403</td>\n",
       "    </tr>\n",
       "  </tbody>\n",
       "</table>\n",
       "</div>"
      ],
      "text/plain": [
       "                   Item and Group  Inflation Change JAN->MAR\n",
       "2     Cereals and bakery products                  -0.728135\n",
       "3  Meats, poultry, fish, and eggs                   0.171915\n",
       "4      Dairy and related products                  -2.281617\n",
       "5           Fruits and vegetables                   0.710403"
      ]
     },
     "execution_count": 8,
     "metadata": {},
     "output_type": "execute_result"
    }
   ],
   "source": [
    "lacpi"
   ]
  },
  {
   "cell_type": "code",
   "execution_count": 5,
   "metadata": {},
   "outputs": [],
   "source": [
    "\n",
    "rscpi = rscpi.loc[[2,3,4,5],:]\n",
    "lacpi = lacpi.loc[[2,3,4,5],:]\n",
    "sdcpi = sdcpi.loc[[2,3,4,5],:]\n",
    "sfcpi = sfcpi.loc[[2,3,4,5],:]"
   ]
  },
  {
   "cell_type": "code",
   "execution_count": 6,
   "metadata": {},
   "outputs": [],
   "source": [
    "frames = [lacpi, sfcpi, rscpi,sdcpi]\n",
    "result = pd.concat(frames)\n",
    "result.insert(0, \"City_Name\", ['LosAngeles_CPI', 'LosAngeles_CPI', 'LosAngeles_CPI', 'LosAngeles_CPI', 'SanFranscisco_CPI', 'SanFranscisco_CPI', 'SanFranscisco_CPI', 'SanFranscisco_CPI', 'Riverside_CPI', 'Riverside_CPI', 'Riverside_CPI', 'Riverside_CPI', 'SanDiego_CPI', 'SanDiego_CPI', 'SanDiego_CPI', 'SanDiego_CPI'], True)\n",
    "result = result.reset_index(drop=True)\n",
    "result = result.reindex([1, 7, 8, 14, 5, 9, 13, 3, 11, 15, 0, 4, 12, 2, 6, 10])\n",
    "result = result.reset_index(drop=True)"
   ]
  },
  {
   "cell_type": "code",
   "execution_count": 7,
   "metadata": {},
   "outputs": [
    {
     "data": {
      "text/plain": [
       "<seaborn.axisgrid.FacetGrid at 0x7fa571bda828>"
      ]
     },
     "execution_count": 7,
     "metadata": {},
     "output_type": "execute_result"
    },
    {
     "data": {
      "image/png": "[encoded data removed]",
      "text/plain": [
       "<Figure size 1152x360 with 4 Axes>"
      ]
     },
     "metadata": {
      "needs_background": "light"
     },
     "output_type": "display_data"
    }
   ],
   "source": [
    "  g = sns.catplot(x=\"Item and Group\", y=\"Inflation Change JAN->MAR\", col=\"City_Name\",\n",
    "                data=result, saturation=.7,\n",
    "                 kind=\"bar\", ci=None, aspect=0.8)\n",
    "\n",
    "(g.set_axis_labels(\"\", \"Percent Change CPI January to March\")\n",
    "   .set_xticklabels([\"Meat\", \"Fruit\", \"Bakery\",\"Dairy\"])\n",
    "   .set_titles(\"{col_name} \")\n",
    "   .set(ylim=(-3, 8))\n",
    "   .despine(left=True)) "
   ]
  }
 ],
 "metadata": {
  "kernelspec": {
   "display_name": "Python 3",
   "language": "python",
   "name": "python3"
  },
  "language_info": {
   "codemirror_mode": {
    "name": "ipython",
    "version": 3
   },
   "file_extension": ".py",
   "mimetype": "text/x-python",
   "name": "python",
   "nbconvert_exporter": "python",
   "pygments_lexer": "ipython3",
   "version": "3.6.7"
  }
 },
 "nbformat": 4,
 "nbformat_minor": 2
}
