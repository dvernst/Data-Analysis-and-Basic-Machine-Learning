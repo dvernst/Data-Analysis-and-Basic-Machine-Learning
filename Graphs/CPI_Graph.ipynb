{
 "cells": [
  {
   "cell_type": "code",
   "execution_count": 1,
   "metadata": {},
   "outputs": [],
   "source": [
    "# Percent Change CPI January to March"
   ]
  },
  {
   "cell_type": "code",
   "execution_count": 2,
   "metadata": {},
   "outputs": [],
   "source": [
    "import pandas as pd\n",
    "import numpy as np\n",
    "import matplotlib.pyplot as plt\n",
    "import seaborn as sns"
   ]
  },
  {
   "cell_type": "code",
   "execution_count": 4,
   "metadata": {},
   "outputs": [
    {
     "data": {
      "text/html": [
       "<div>\n",
       "<style scoped>\n",
       "    .dataframe tbody tr th:only-of-type {\n",
       "        vertical-align: middle;\n",
       "    }\n",
       "\n",
       "    .dataframe tbody tr th {\n",
       "        vertical-align: top;\n",
       "    }\n",
       "\n",
       "    .dataframe thead th {\n",
       "        text-align: right;\n",
       "    }\n",
       "</style>\n",
       "<table border=\"1\" class=\"dataframe\">\n",
       "  <thead>\n",
       "    <tr style=\"text-align: right;\">\n",
       "      <th></th>\n",
       "      <th>City_Name</th>\n",
       "      <th>Data</th>\n",
       "      <th>Item</th>\n",
       "    </tr>\n",
       "  </thead>\n",
       "  <tbody>\n",
       "    <tr>\n",
       "      <th>0</th>\n",
       "      <td>LosAngeles_CPI</td>\n",
       "      <td>0.17</td>\n",
       "      <td>Meat</td>\n",
       "    </tr>\n",
       "    <tr>\n",
       "      <th>1</th>\n",
       "      <td>SanFranscisco_CPI</td>\n",
       "      <td>3.70</td>\n",
       "      <td>Fruit&amp;Veg</td>\n",
       "    </tr>\n",
       "    <tr>\n",
       "      <th>2</th>\n",
       "      <td>Riverside_CPI</td>\n",
       "      <td>1.20</td>\n",
       "      <td>Cereals&amp;Bakery</td>\n",
       "    </tr>\n",
       "    <tr>\n",
       "      <th>3</th>\n",
       "      <td>SanDiego_CPI</td>\n",
       "      <td>0.60</td>\n",
       "      <td>Dairy</td>\n",
       "    </tr>\n",
       "    <tr>\n",
       "      <th>4</th>\n",
       "      <td>SanFranscisco_CPI</td>\n",
       "      <td>10.42</td>\n",
       "      <td>Meat</td>\n",
       "    </tr>\n",
       "    <tr>\n",
       "      <th>5</th>\n",
       "      <td>Riverside_CPI</td>\n",
       "      <td>2.00</td>\n",
       "      <td>Meat</td>\n",
       "    </tr>\n",
       "    <tr>\n",
       "      <th>6</th>\n",
       "      <td>SanDiego_CPI</td>\n",
       "      <td>0.40</td>\n",
       "      <td>Meat</td>\n",
       "    </tr>\n",
       "    <tr>\n",
       "      <th>7</th>\n",
       "      <td>LosAngeles_CPI</td>\n",
       "      <td>0.71</td>\n",
       "      <td>Fruit&amp;Veg</td>\n",
       "    </tr>\n",
       "    <tr>\n",
       "      <th>8</th>\n",
       "      <td>Riverside_CPI</td>\n",
       "      <td>0.60</td>\n",
       "      <td>Fruit&amp;Veg</td>\n",
       "    </tr>\n",
       "    <tr>\n",
       "      <th>9</th>\n",
       "      <td>SanDiego_CPI</td>\n",
       "      <td>1.20</td>\n",
       "      <td>Fruit&amp;Veg</td>\n",
       "    </tr>\n",
       "    <tr>\n",
       "      <th>10</th>\n",
       "      <td>LosAngeles_CPI</td>\n",
       "      <td>-0.72</td>\n",
       "      <td>Cereals&amp;Bakery</td>\n",
       "    </tr>\n",
       "    <tr>\n",
       "      <th>11</th>\n",
       "      <td>SanFranscisco_CPI</td>\n",
       "      <td>4.10</td>\n",
       "      <td>Cereals&amp;Bakery</td>\n",
       "    </tr>\n",
       "    <tr>\n",
       "      <th>12</th>\n",
       "      <td>SanDiego_CPI</td>\n",
       "      <td>-1.50</td>\n",
       "      <td>Cereals&amp;Bakery</td>\n",
       "    </tr>\n",
       "    <tr>\n",
       "      <th>13</th>\n",
       "      <td>LosAngeles_CPI</td>\n",
       "      <td>-2.28</td>\n",
       "      <td>Dairy</td>\n",
       "    </tr>\n",
       "    <tr>\n",
       "      <th>14</th>\n",
       "      <td>SanFranscisco_CPI</td>\n",
       "      <td>3.50</td>\n",
       "      <td>Dairy</td>\n",
       "    </tr>\n",
       "    <tr>\n",
       "      <th>15</th>\n",
       "      <td>Riverside_CPI</td>\n",
       "      <td>-0.50</td>\n",
       "      <td>Dairy</td>\n",
       "    </tr>\n",
       "    <tr>\n",
       "      <th>16</th>\n",
       "      <td>SanDiego_CPI</td>\n",
       "      <td>0.60</td>\n",
       "      <td>Dairy</td>\n",
       "    </tr>\n",
       "  </tbody>\n",
       "</table>\n",
       "</div>"
      ],
      "text/plain": [
       "            City_Name   Data            Item\n",
       "0      LosAngeles_CPI   0.17            Meat\n",
       "1   SanFranscisco_CPI   3.70       Fruit&Veg\n",
       "2       Riverside_CPI   1.20  Cereals&Bakery\n",
       "3        SanDiego_CPI   0.60           Dairy\n",
       "4   SanFranscisco_CPI  10.42            Meat\n",
       "5       Riverside_CPI   2.00            Meat\n",
       "6        SanDiego_CPI   0.40            Meat\n",
       "7      LosAngeles_CPI   0.71       Fruit&Veg\n",
       "8       Riverside_CPI   0.60       Fruit&Veg\n",
       "9        SanDiego_CPI   1.20       Fruit&Veg\n",
       "10     LosAngeles_CPI  -0.72  Cereals&Bakery\n",
       "11  SanFranscisco_CPI   4.10  Cereals&Bakery\n",
       "12       SanDiego_CPI  -1.50  Cereals&Bakery\n",
       "13     LosAngeles_CPI  -2.28           Dairy\n",
       "14  SanFranscisco_CPI   3.50           Dairy\n",
       "15      Riverside_CPI  -0.50           Dairy\n",
       "16       SanDiego_CPI   0.60           Dairy"
      ]
     },
     "execution_count": 4,
     "metadata": {},
     "output_type": "execute_result"
    }
   ],
   "source": [
    "#df = pd.read_csv('./FC.csv')\n",
    "df1 = pd.read_csv('./FourCitiesCPI.csv')\n",
    "df1"
   ]
  },
  {
   "cell_type": "code",
   "execution_count": 5,
   "metadata": {},
   "outputs": [
    {
     "data": {
      "text/plain": [
       "<seaborn.axisgrid.FacetGrid at 0x7fe5b00c7e48>"
      ]
     },
     "execution_count": 5,
     "metadata": {},
     "output_type": "execute_result"
    },
    {
     "data": {
      "image/png": "[encoded data removed]",
      "text/plain": [
       "<Figure size 864x360 with 4 Axes>"
      ]
     },
     "metadata": {
      "needs_background": "light"
     },
     "output_type": "display_data"
    }
   ],
   "source": [
    "  g = sns.catplot(x=\"Item\", y=\"Data\", col=\"City_Name\",\n",
    "                data=df1, saturation=.5,\n",
    "                 kind=\"bar\", ci=None, aspect=.6)\n",
    "\n",
    "(g.set_axis_labels(\"\", \"Percent Change CPI January to March\")\n",
    "   .set_xticklabels([\"Meat\", \"Fruit\", \"Bakery\",\"Dairy\"])\n",
    "   .set_titles(\"{col_name} \")\n",
    "   .set(ylim=(-3, 8))\n",
    "   .despine(left=True))  "
   ]
  },
  {
   "cell_type": "code",
   "execution_count": 6,
   "metadata": {},
   "outputs": [
    {
     "data": {
      "image/png": "[encoded data removed]",
      "text/plain": [
       "<Figure size 432x288 with 1 Axes>"
      ]
     },
     "metadata": {
      "needs_background": "light"
     },
     "output_type": "display_data"
    }
   ],
   "source": [
    "labels = ['LA_CPI','SF_CPI','Riverside','SD_CPI']\n",
    "Meat = [0.17,7.55,2,0.4]\n",
    "Fruit_Veg = [0.71,3.8,0.6,1.2]\n",
    "Cereals_Bakery = [-0.72,4.1,1.2,-1.5]\n",
    "Dairy = [-2.28,3.5,-0.5,0.6]\n",
    "\n",
    "\n",
    "x = np.arange(len(labels))  # the label locations\n",
    "width = 0.2  # the width of the bars\n",
    "\n",
    "fig, ax = plt.subplots()\n",
    "rects1 = ax.bar(x - width/2, Meat, width, label='Meat')\n",
    "rects2 = ax.bar(x + width/2, Fruit_Veg, width, label='Fruit&Veg')\n",
    "rects3 = ax.bar(x + width*1.5, Cereals_Bakery, width, label='Cereals&Bakery')\n",
    "rects4 = ax.bar(x + width*2.5, Dairy, width, label='Dairy')\n",
    "\n",
    "\n",
    "ax.set_ylabel('Precensent of Change')\n",
    "ax.set_title('Percent Change CPI January to March')\n",
    "ax.set_xticks(x)\n",
    "ax.set_xticklabels(labels)\n",
    "ax.legend()\n",
    "#ax.grid(zorder=0)\n",
    "\n",
    "def autolabel(rects):\n",
    "    for rect in rects:\n",
    "        height = rect.get_height()\n",
    "        ax.annotate('{}'.format(height),\n",
    "                    xy=(rect.get_x() + rect.get_width() / 2, height),\n",
    "                    xytext=(0, 4),  # 3 points vertical offset\n",
    "                    textcoords=\"offset points\",\n",
    "                    ha='center', va='bottom')\n",
    "\n",
    "\n",
    "#autolabel(rects1)\n",
    "#autolabel(rects2)\n",
    "#autolabel(rects3)\n",
    "\n",
    "fig.tight_layout()\n",
    "\n",
    "plt.show()"
   ]
  },
  {
   "cell_type": "code",
   "execution_count": null,
   "metadata": {},
   "outputs": [],
   "source": []
  }
 ],
 "metadata": {
  "kernelspec": {
   "display_name": "Python 3",
   "language": "python",
   "name": "python3"
  },
  "language_info": {
   "codemirror_mode": {
    "name": "ipython",
    "version": 3
   },
   "file_extension": ".py",
   "mimetype": "text/x-python",
   "name": "python",
   "nbconvert_exporter": "python",
   "pygments_lexer": "ipython3",
   "version": "3.6.7"
  }
 },
 "nbformat": 4,
 "nbformat_minor": 2
}
